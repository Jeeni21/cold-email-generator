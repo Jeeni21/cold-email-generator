{
 "cells": [
  {
   "cell_type": "code",
   "execution_count": 6,
   "id": "2c999b06-b48f-446d-a739-2b5c36e695cd",
   "metadata": {},
   "outputs": [],
   "source": [
    "from langchain_groq import ChatGroq"
   ]
  },
  {
   "cell_type": "code",
   "execution_count": 8,
   "id": "4b86cca2-ac47-4beb-8db4-7b22cedd941d",
   "metadata": {},
   "outputs": [
    {
     "name": "stdout",
     "output_type": "stream",
     "text": [
      "The first person to land on the moon was Neil Armstrong. He stepped onto the lunar surface on July 20, 1969, as part of the Apollo 11 mission.\n"
     ]
    }
   ],
   "source": [
    "llm = ChatGroq(\n",
    "    model_name=\"llama-3.1-70b-versatile\",\n",
    "    groq_api_key='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',\n",
    "    temperature=0,\n",
    "    max_tokens=None,\n",
    "    timeout=None,\n",
    "    max_retries=2,\n",
    "    # other params...\n",
    ")\n",
    "\n",
    "response = llm.invoke(\"The first person to land on moon was...\")\n",
    "print(response.content)"
   ]
  },
  {
   "cell_type": "code",
   "execution_count": 11,
   "id": "1fe7827e-1483-4a8b-8ece-92f0d159dfd1",
   "metadata": {},
   "outputs": [
    {
     "data": {
      "text/plain": [
       "\"Apply for Lead Analytics Engineer\\n\\nSearch JobsSkip navigationSearch JobsNIKE, INC. JOBSContract JobsJoin The Talent CommunityLife @ NikeOverviewBenefitsBrandsOverviewJordanConverseTeamsOverviewAdministrative SupportAdvanced InnovationAir Manufacturing InnovationAviationCommunicationsCustomer ServiceDesignDigitalFacilitiesFinance & AccountingGovernment & Public AffairsHuman ResourcesInsights & AnalyticsLegalManufacturing & EngineeringMarketingMerchandisingPlanningPrivacyProcurementProduct Creation, Development & ManagementRetail CorporateRetail StoresSalesSocial & Community ImpactSports MarketingStrategic PlanningSupply Chain, Distribution & LogisticsSustainabilityTechnologyLocationsOverviewNike WHQNike New York HQEHQ: Hilversum, The NetherlandsELC: Laakdal, BelgiumGreater China HQDiversity, Equity & InclusionOverviewMilitary InclusionDisability InclusionIndigenous InclusionInternshipsData & AnalyticsLead Analytics EngineerShanghai, China MainlandBecome a Part of the NIKE, Inc. Team\\nNIKE, Inc. does more than outfit the world’s best athletes. It is a place to explore potential, obliterate boundaries and push out the edges of what can be. The company looks for people who can grow, think, dream and create. Its culture thrives by embracing diversity and rewarding imagination. The brand seeks achievers, leaders and visionaries. At NIKE, Inc. it’s about each person bringing skills and passion to a challenging and constantly evolving game.Become a Part of the NIKE, Inc. TeamNIKE, Inc. does more than outfit the world's best athletes. It is a place to explore potential, obliterate boundaries and push out the edges of what can be. The company looks for people who can grow, think, dream and create. Its culture thrives by embracing diversity and rewarding imagination. The brand seeks achievers, leaders and visionaries. At Nike, it’s about each person bringing skills and passion to a challenging and constantly evolving game.The data governance management position is a critical role of GC Data&AI team that needs to cover several different data aspects.We are seeking a highly motivated and experienced Data Management Professional to join our dynamic team. This role is crucial in ensuring the efficient management and utilization of data within our organization. The successful candidate will be responsible for data capture of online behavior data, data governance, and master data management.Key Responsibilities:Data Capture:Design, implement, and maintain systems for capturing online behavior data with precision.Conduct regular validations and cleansing of captured data to ensure accuracy and integrity.Devise and execute data collection strategies to maximize data quality and quantity.Data Governance:Establish and enforce comprehensive data governance policies and procedures.Ensure strict compliance with data privacy and security regulations.Continuously monitor and report on data quality metrics.Collaborate closely with cross-functional teams to promptly address data quality issues.Master Data Management:Develop and maintain robust master data management processes.Guarantee consistency and accuracy of master data across all systems.Manage master data changes and updates in a timely manner.Work with stakeholders to define and uphold master data standards.Qualifications:Possess a bachelor's degree in Computer Science, Information Systems, or a related field.Have a minimum of 8 years of experience in data management, encompassing data capture, data governance, and master data management.Demonstrate a strong understanding of data management principles and best practices.Be proficient with data capture tools and technologies. Experience on Sensors will be a plus.Have excellent command over SQL and other data query languages.Exhibit outstanding problem-solving and analytical skills.Possess extremely strong and mature communication skills and be fluent in English.\\xa0NIKE, Inc. is a growth company that looks for team members to grow with it. Nike offers a generous total rewards package, casual work environment, a diverse and inclusive culture, and an electric atmosphere for professional development. No matter the location, or the role, every Nike employee shares one galvanizing mission: To bring inspiration and innovation to every athlete* in the world.NIKE, Inc. is committed to employing a diverse workforce. Qualified applicants will receive consideration without regard to race, color, religion, sex, national origin, age, sexual orientation, gender identity, gender expression, veteran status, or disability.How We HireAt NIKE, Inc. we promise to provide a premium, inclusive, compelling and authentic candidate experience. Delivering on this promise means we allow you to be at your best — and to do that, you need to understand how the hiring process works. Transparency is key.\\r\\n\\r\\n* This overview explains our hiring process for corporate roles. Note there may be different hiring steps involved for non-corporate roles.Start nowBenefitsWhether it’s transportation or financial health, we continually invest in our employees to help them achieve greatness — inside and outside of work. All who work here should be able to realize their full potential.Employee Assistance ProgramHolidaysMedical PlanPaid Time Off (PTO)Product DiscountsLearn moreFIND A STORENIKE JOURNALBECOME A MEMBERFEEDBACKPROMO CODESGET HELPGET HELPOrder StatusShipping and DeliveryReturnsPayment OptionsContact UsABOUT NIKEABOUT NIKENewsCareersInvestorsSustainabilityNIKE APPSNIKE APPSNike AppNike Run ClubNike Training ClubSNKRSCanada© 2024 Nike, Inc. All Rights ReservedGuidesNike AdaptNike FlyEaseNike FreeNike VaporflyNBA Fan GearNike AirNike FlyKnitNike Pegasus Nike Zoom FlyNike Airtopia Nike Air MaxNike FlyleatherNike ReactNike ZoomXTerms of UseTerms of SaleCompany DetailsPrivacy & Cookie Policy\""
      ]
     },
     "execution_count": 11,
     "metadata": {},
     "output_type": "execute_result"
    }
   ],
   "source": [
    "from langchain_community.document_loaders import WebBaseLoader\n",
    "\n",
    "loader = WebBaseLoader(\"https://jobs.nike.com/job/R-43218?from=job%20search%20funnel\")\n",
    "page_data = loader.load().pop().page_content\n",
    "page_data"
   ]
  },
  {
   "cell_type": "code",
   "execution_count": 14,
   "id": "45b7a11f-f62a-48ae-93ad-71ae3c8bac0b",
   "metadata": {},
   "outputs": [
    {
     "name": "stdout",
     "output_type": "stream",
     "text": [
      "```json\n",
      "{\n",
      "  \"role\": \"Lead Analytics Engineer\",\n",
      "  \"experience\": \"Minimum 8 years of experience in data management, encompassing data capture, data governance, and master data management\",\n",
      "  \"skills\": [\n",
      "    \"Bachelor's degree in Computer Science, Information Systems, or a related field\",\n",
      "    \"Strong understanding of data management principles and best practices\",\n",
      "    \"Proficient with data capture tools and technologies\",\n",
      "    \"Experience with Sensors is a plus\",\n",
      "    \"Excellent command over SQL and other data query languages\",\n",
      "    \"Outstanding problem-solving and analytical skills\",\n",
      "    \"Extremely strong and mature communication skills and fluent in English\"\n",
      "  ],\n",
      "  \"description\": \"The data governance management position is a critical role of GC Data&AI team that needs to cover several different data aspects. We are seeking a highly motivated and experienced Data Management Professional to join our dynamic team. This role is crucial in ensuring the efficient management and utilization of data within our organization.\"\n",
      "}\n",
      "```\n"
     ]
    }
   ],
   "source": [
    "from langchain_core.prompts import PromptTemplate\n",
    "prompt_extract = PromptTemplate.from_template(\n",
    "    \"\"\"\n",
    "    ### SCRAPED TEXT FROM WESITE:\n",
    "    {page_data}\n",
    "    ### INSTRUCTION\n",
    "    The scraped text is from the career's page of a website.\n",
    "    Your job is to extract job postings and return them in JSON format containing \n",
    "    following keys: 'role', 'experience', 'skills' and 'description'.\n",
    "    Only return the valid JSON.\n",
    "    ### VALID JSON (NO PREAMBLE):\n",
    "    \"\"\"\n",
    ")\n",
    "\n",
    "chain_extract = prompt_extract | llm\n",
    "res = chain_extract.invoke(input={'page_data': page_data})\n",
    "print(res.content.strip())"
   ]
  },
  {
   "cell_type": "code",
   "execution_count": 19,
   "id": "86066df1-3a06-40b4-92e2-1e292d6422f9",
   "metadata": {},
   "outputs": [
    {
     "data": {
      "text/plain": [
       "{'role': 'Lead Analytics Engineer',\n",
       " 'experience': 'Minimum 8 years of experience in data management, encompassing data capture, data governance, and master data management',\n",
       " 'skills': [\"Bachelor's degree in Computer Science, Information Systems, or a related field\",\n",
       "  'Strong understanding of data management principles and best practices',\n",
       "  'Proficient with data capture tools and technologies',\n",
       "  'Experience with Sensors is a plus',\n",
       "  'Excellent command over SQL and other data query languages',\n",
       "  'Outstanding problem-solving and analytical skills',\n",
       "  'Extremely strong and mature communication skills and fluent in English'],\n",
       " 'description': 'The data governance management position is a critical role of GC Data&AI team that needs to cover several different data aspects. We are seeking a highly motivated and experienced Data Management Professional to join our dynamic team. This role is crucial in ensuring the efficient management and utilization of data within our organization.'}"
      ]
     },
     "execution_count": 19,
     "metadata": {},
     "output_type": "execute_result"
    }
   ],
   "source": [
    "from langchain_core.output_parsers import JsonOutputParser\n",
    "json_parser = JsonOutputParser()\n",
    "json_res = json_parser.parse(res.content)\n",
    "json_res"
   ]
  },
  {
   "cell_type": "code",
   "execution_count": 21,
   "id": "7e20e76a-44ac-4885-9a22-2131875bf9de",
   "metadata": {},
   "outputs": [
    {
     "data": {
      "text/html": [
       "<div>\n",
       "<style scoped>\n",
       "    .dataframe tbody tr th:only-of-type {\n",
       "        vertical-align: middle;\n",
       "    }\n",
       "\n",
       "    .dataframe tbody tr th {\n",
       "        vertical-align: top;\n",
       "    }\n",
       "\n",
       "    .dataframe thead th {\n",
       "        text-align: right;\n",
       "    }\n",
       "</style>\n",
       "<table border=\"1\" class=\"dataframe\">\n",
       "  <thead>\n",
       "    <tr style=\"text-align: right;\">\n",
       "      <th></th>\n",
       "      <th>Techstack</th>\n",
       "      <th>Links</th>\n",
       "    </tr>\n",
       "  </thead>\n",
       "  <tbody>\n",
       "    <tr>\n",
       "      <th>0</th>\n",
       "      <td>React, Node.js, MongoDB</td>\n",
       "      <td>https://example.com/react-portfolio</td>\n",
       "    </tr>\n",
       "    <tr>\n",
       "      <th>1</th>\n",
       "      <td>Angular,.NET, SQL Server</td>\n",
       "      <td>https://example.com/angular-portfolio</td>\n",
       "    </tr>\n",
       "    <tr>\n",
       "      <th>2</th>\n",
       "      <td>Vue.js, Ruby on Rails, PostgreSQL</td>\n",
       "      <td>https://example.com/vue-portfolio</td>\n",
       "    </tr>\n",
       "    <tr>\n",
       "      <th>3</th>\n",
       "      <td>Python, Django, MySQL</td>\n",
       "      <td>https://example.com/python-portfolio</td>\n",
       "    </tr>\n",
       "    <tr>\n",
       "      <th>4</th>\n",
       "      <td>Java, Spring Boot, Oracle</td>\n",
       "      <td>https://example.com/java-portfolio</td>\n",
       "    </tr>\n",
       "    <tr>\n",
       "      <th>5</th>\n",
       "      <td>Flutter, Firebase, GraphQL</td>\n",
       "      <td>https://example.com/flutter-portfolio</td>\n",
       "    </tr>\n",
       "    <tr>\n",
       "      <th>6</th>\n",
       "      <td>WordPress, PHP, MySQL</td>\n",
       "      <td>https://example.com/wordpress-portfolio</td>\n",
       "    </tr>\n",
       "    <tr>\n",
       "      <th>7</th>\n",
       "      <td>Magento, PHP, MySQL</td>\n",
       "      <td>https://example.com/magento-portfolio</td>\n",
       "    </tr>\n",
       "    <tr>\n",
       "      <th>8</th>\n",
       "      <td>React Native, Node.js, MongoDB</td>\n",
       "      <td>https://example.com/react-native-portfolio</td>\n",
       "    </tr>\n",
       "    <tr>\n",
       "      <th>9</th>\n",
       "      <td>iOS, Swift, Core Data</td>\n",
       "      <td>https://example.com/ios-portfolio</td>\n",
       "    </tr>\n",
       "    <tr>\n",
       "      <th>10</th>\n",
       "      <td>Android, Java, Room Persistence</td>\n",
       "      <td>https://example.com/android-portfolio</td>\n",
       "    </tr>\n",
       "    <tr>\n",
       "      <th>11</th>\n",
       "      <td>Kotlin, Android, Firebase</td>\n",
       "      <td>https://example.com/kotlin-android-portfolio</td>\n",
       "    </tr>\n",
       "    <tr>\n",
       "      <th>12</th>\n",
       "      <td>Android TV, Kotlin, Android NDK</td>\n",
       "      <td>https://example.com/android-tv-portfolio</td>\n",
       "    </tr>\n",
       "    <tr>\n",
       "      <th>13</th>\n",
       "      <td>iOS, Swift, ARKit</td>\n",
       "      <td>https://example.com/ios-ar-portfolio</td>\n",
       "    </tr>\n",
       "    <tr>\n",
       "      <th>14</th>\n",
       "      <td>Cross-platform, Xamarin, Azure</td>\n",
       "      <td>https://example.com/xamarin-portfolio</td>\n",
       "    </tr>\n",
       "    <tr>\n",
       "      <th>15</th>\n",
       "      <td>Backend, Kotlin, Spring Boot</td>\n",
       "      <td>https://example.com/kotlin-backend-portfolio</td>\n",
       "    </tr>\n",
       "    <tr>\n",
       "      <th>16</th>\n",
       "      <td>Frontend, TypeScript, Angular</td>\n",
       "      <td>https://example.com/typescript-frontend-portfolio</td>\n",
       "    </tr>\n",
       "    <tr>\n",
       "      <th>17</th>\n",
       "      <td>Full-stack, JavaScript, Express.js</td>\n",
       "      <td>https://example.com/full-stack-js-portfolio</td>\n",
       "    </tr>\n",
       "    <tr>\n",
       "      <th>18</th>\n",
       "      <td>Machine Learning, Python, TensorFlow</td>\n",
       "      <td>https://example.com/ml-python-portfolio</td>\n",
       "    </tr>\n",
       "    <tr>\n",
       "      <th>19</th>\n",
       "      <td>DevOps, Jenkins, Docker</td>\n",
       "      <td>https://example.com/devops-portfolio</td>\n",
       "    </tr>\n",
       "  </tbody>\n",
       "</table>\n",
       "</div>"
      ],
      "text/plain": [
       "                               Techstack  \\\n",
       "0                React, Node.js, MongoDB   \n",
       "1               Angular,.NET, SQL Server   \n",
       "2      Vue.js, Ruby on Rails, PostgreSQL   \n",
       "3                  Python, Django, MySQL   \n",
       "4              Java, Spring Boot, Oracle   \n",
       "5             Flutter, Firebase, GraphQL   \n",
       "6                  WordPress, PHP, MySQL   \n",
       "7                    Magento, PHP, MySQL   \n",
       "8         React Native, Node.js, MongoDB   \n",
       "9                  iOS, Swift, Core Data   \n",
       "10       Android, Java, Room Persistence   \n",
       "11             Kotlin, Android, Firebase   \n",
       "12       Android TV, Kotlin, Android NDK   \n",
       "13                     iOS, Swift, ARKit   \n",
       "14        Cross-platform, Xamarin, Azure   \n",
       "15          Backend, Kotlin, Spring Boot   \n",
       "16         Frontend, TypeScript, Angular   \n",
       "17    Full-stack, JavaScript, Express.js   \n",
       "18  Machine Learning, Python, TensorFlow   \n",
       "19               DevOps, Jenkins, Docker   \n",
       "\n",
       "                                                Links  \n",
       "0                 https://example.com/react-portfolio  \n",
       "1               https://example.com/angular-portfolio  \n",
       "2                   https://example.com/vue-portfolio  \n",
       "3                https://example.com/python-portfolio  \n",
       "4                  https://example.com/java-portfolio  \n",
       "5               https://example.com/flutter-portfolio  \n",
       "6             https://example.com/wordpress-portfolio  \n",
       "7               https://example.com/magento-portfolio  \n",
       "8          https://example.com/react-native-portfolio  \n",
       "9                   https://example.com/ios-portfolio  \n",
       "10              https://example.com/android-portfolio  \n",
       "11       https://example.com/kotlin-android-portfolio  \n",
       "12           https://example.com/android-tv-portfolio  \n",
       "13               https://example.com/ios-ar-portfolio  \n",
       "14              https://example.com/xamarin-portfolio  \n",
       "15       https://example.com/kotlin-backend-portfolio  \n",
       "16  https://example.com/typescript-frontend-portfolio  \n",
       "17        https://example.com/full-stack-js-portfolio  \n",
       "18            https://example.com/ml-python-portfolio  \n",
       "19               https://example.com/devops-portfolio  "
      ]
     },
     "execution_count": 21,
     "metadata": {},
     "output_type": "execute_result"
    }
   ],
   "source": [
    "import pandas as pd\n",
    "\n",
    "df = pd.read_csv(\"my_portfolio.csv\")\n",
    "df"
   ]
  },
  {
   "cell_type": "code",
   "execution_count": 39,
   "id": "a452c604-54f7-4633-b2fe-badd3c47f416",
   "metadata": {},
   "outputs": [],
   "source": [
    "import uuid\n",
    "import chromadb\n",
    "\n",
    "client = chromadb.PersistentClient('vectorstore')\n",
    "collection = client.get_or_create_collection(name=\"portfolio\")\n",
    "\n",
    "if not collection.count():\n",
    "    for index, row in df.iterrows():\n",
    "        collection.add(documents=row['Techstack'],\n",
    "                       metadatas={\"links\": row[\"Links\"]},\n",
    "                       ids=[str(uuid.uuid4())])\n",
    "        link_lists = row[\"Links\"]"
   ]
  },
  {
   "cell_type": "code",
   "execution_count": 36,
   "id": "736c8aff-0a3b-41af-9a7f-5dc0ea29a2ab",
   "metadata": {},
   "outputs": [
    {
     "data": {
      "text/plain": [
       "[[{'links': 'https://example.com/ml-python-portfolio'},\n",
       "  {'links': 'https://example.com/python-portfolio'}],\n",
       " [{'links': 'https://example.com/react-portfolio'},\n",
       "  {'links': 'https://example.com/react-native-portfolio'}]]"
      ]
     },
     "execution_count": 36,
     "metadata": {},
     "output_type": "execute_result"
    }
   ],
   "source": [
    "links = collection.query(\n",
    "    query_texts = [\n",
    "        \"Experience in Python\",\n",
    "        \"Experience in React\"\n",
    "    ], n_results = 2\n",
    ")\n"
   ]
  },
  {
   "cell_type": "code",
   "execution_count": 34,
   "id": "696effe6-3622-4365-acb0-28e3fd2cd4a4",
   "metadata": {},
   "outputs": [
    {
     "data": {
      "text/plain": [
       "[\"Bachelor's degree in Computer Science, Information Systems, or a related field\",\n",
       " 'Strong understanding of data management principles and best practices',\n",
       " 'Proficient with data capture tools and technologies',\n",
       " 'Experience with Sensors is a plus',\n",
       " 'Excellent command over SQL and other data query languages',\n",
       " 'Outstanding problem-solving and analytical skills',\n",
       " 'Extremely strong and mature communication skills and fluent in English']"
      ]
     },
     "execution_count": 34,
     "metadata": {},
     "output_type": "execute_result"
    }
   ],
   "source": [
    "job = json_res\n",
    "job['skills']"
   ]
  },
  {
   "cell_type": "code",
   "execution_count": 40,
   "id": "99ee6912-fb78-4079-908c-4824f6723114",
   "metadata": {},
   "outputs": [
    {
     "name": "stdout",
     "output_type": "stream",
     "text": [
      "Subject: Application for Lead Analytics Engineer Position\n",
      "\n",
      "Dear Hiring Manager,\n",
      "\n",
      "I am writing to express my interest in the Lead Analytics Engineer position at your esteemed organization. As a third-year Software Development student at Sheridan College, I am confident that my skills and experience make me an ideal candidate for this role.\n",
      "\n",
      "With a strong foundation in computer science and information systems, I have developed a solid understanding of data management principles and best practices. My experience in data capture, data governance, and master data management has been demonstrated through various projects, including those that utilize machine learning, Python, and TensorFlow. I am excited about the opportunity to bring my skills and expertise to your team and contribute to the efficient management and utilization of data within your organization.\n",
      "\n",
      "Some of my notable projects include:\n",
      "\n",
      "* A machine learning project that leverages Python and TensorFlow to develop predictive models (https://example.com/ml-python-portfolio)\n",
      "* A web development project that utilizes React, Node.js, and MongoDB to create scalable and efficient applications (https://example.com/react-portfolio)\n",
      "\n",
      "These projects showcase my ability to design and implement tailored solutions that foster scalability, process optimization, cost reduction, and heightened overall efficiency. I am confident that my skills and experience align with the requirements of the Lead Analytics Engineer position, and I am excited about the opportunity to discuss my application with you further.\n",
      "\n",
      "In addition to my technical skills, I possess excellent communication skills and am fluent in English. I have a proven track record of working effectively with cross-functional teams and communicating complex technical concepts to non-technical stakeholders.\n",
      "\n",
      "Thank you for considering my application. I would welcome the opportunity to discuss my qualifications further and explain in greater detail why I am the ideal candidate for this role. Please feel free to contact me at your convenience.\n",
      "\n",
      "Best regards,\n",
      "\n",
      "Jeenitesh\n"
     ]
    }
   ],
   "source": [
    " prompt_email = PromptTemplate.from_template(\n",
    "            \"\"\"\n",
    "            ### JOB DESCRIPTION:\n",
    "            {job_description}\n",
    "\n",
    "            ### INSTRUCTION:\n",
    "            I am a Software Development student at Sheridan College, currently in my third year. I have developed many projects and have experience from two co-op terms. Over my experience, I have empowered numerous enterprises with tailored solutions, fostering scalability, process optimization, cost reduction, and heightened overall efficiency.\n",
    "\n",
    "            Could you please help me write a cold email to a manager regarding a job opportunity? \n",
    "            The email should describe my capabilities in fulfilling their needs and include the most relevant projects from the following links to showcase my portfolio: {link_list}. Remember, my name is Jeenitesh.\n",
    "            Do not provide a preamble.\n",
    "            ### EMAIL (NO PREAMBLE):\n",
    "\n",
    "            \"\"\"\n",
    "        )\n",
    "\n",
    "chain_email = prompt_email | llm\n",
    "res = chain_email.invoke({\"job_description\": str(job), \"link_list\": links})\n",
    "print(res.content)"
   ]
  },
  {
   "cell_type": "code",
   "execution_count": null,
   "id": "997238de-8839-4fd5-bae1-f69b7ab77384",
   "metadata": {},
   "outputs": [],
   "source": []
  }
 ],
 "metadata": {
  "kernelspec": {
   "display_name": "Python 3 (ipykernel)",
   "language": "python",
   "name": "python3"
  },
  "language_info": {
   "codemirror_mode": {
    "name": "ipython",
    "version": 3
   },
   "file_extension": ".py",
   "mimetype": "text/x-python",
   "name": "python",
   "nbconvert_exporter": "python",
   "pygments_lexer": "ipython3",
   "version": "3.12.5"
  }
 },
 "nbformat": 4,
 "nbformat_minor": 5
}
